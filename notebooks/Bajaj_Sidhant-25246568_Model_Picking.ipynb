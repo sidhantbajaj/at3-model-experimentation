{
 "cells": [
  {
   "cell_type": "markdown",
   "id": "ebc9a2c2-da1e-4698-b048-6f210957cd88",
   "metadata": {},
   "source": [
    "# 0. Import Libraries"
   ]
  },
  {
   "cell_type": "code",
   "execution_count": 36,
   "id": "a34db820-6d93-4f88-bd84-5360065319df",
   "metadata": {},
   "outputs": [],
   "source": [
    "import pandas as pd\n",
    "import numpy as np\n",
    "from my_krml_25246568.data.sets import pop_target\n",
    "from sklearn.metrics import root_mean_squared_error as rmse\n",
    "from sklearn.model_selection import RandomizedSearchCV, train_test_split\n",
    "import xgboost as xgb\n",
    "import lightgbm as lgb\n",
    "from sklearn.linear_model import LinearRegression, ElasticNet\n",
    "from sklearn.tree import DecisionTreeRegressor\n",
    "from sklearn.ensemble import RandomForestRegressor\n",
    "from joblib import dump"
   ]
  },
  {
   "cell_type": "markdown",
   "id": "c39884c9-4e42-44e9-83f4-721b40d22454",
   "metadata": {},
   "source": [
    "# 1. Load Data"
   ]
  },
  {
   "cell_type": "code",
   "execution_count": 48,
   "id": "e196c2f5-ab1a-4b83-8f81-d9e7195a5848",
   "metadata": {},
   "outputs": [],
   "source": [
    "df = pd.read_csv('../data/processed/processed_data.csv', low_memory=False)"
   ]
  },
  {
   "cell_type": "code",
   "execution_count": 49,
   "id": "5dff686a-42fb-411c-b533-e873bad2e0e9",
   "metadata": {},
   "outputs": [
    {
     "name": "stdout",
     "output_type": "stream",
     "text": [
      "<class 'pandas.core.frame.DataFrame'>\n",
      "RangeIndex: 13519999 entries, 0 to 13519998\n",
      "Data columns (total 18 columns):\n",
      " #   Column                    Dtype  \n",
      "---  ------                    -----  \n",
      " 0   startingAirport           float64\n",
      " 1   destinationAirport        float64\n",
      " 2   totalTravelDistance       float64\n",
      " 3   travelDurationMins        float64\n",
      " 4   cabinTypeSegmentSegment1  float64\n",
      " 5   cabinTypeSegmentSegment2  float64\n",
      " 6   cabinTypeSegmentSegment3  float64\n",
      " 7   cabinTypeSegmentSegment4  float64\n",
      " 8   numStops                  float64\n",
      " 9   flightYear                float64\n",
      " 10  flightMonth               float64\n",
      " 11  flightDay                 float64\n",
      " 12  flightHour                float64\n",
      " 13  flightMinute              float64\n",
      " 14  searchYear                float64\n",
      " 15  searchMonth               float64\n",
      " 16  searchDay                 float64\n",
      " 17  totalFare                 float64\n",
      "dtypes: float64(18)\n",
      "memory usage: 1.8 GB\n"
     ]
    }
   ],
   "source": [
    "df.info()"
   ]
  },
  {
   "cell_type": "code",
   "execution_count": 50,
   "id": "d06164f0-5f13-4324-aa2f-10e09adf219e",
   "metadata": {},
   "outputs": [
    {
     "data": {
      "text/html": [
       "<div>\n",
       "<style scoped>\n",
       "    .dataframe tbody tr th:only-of-type {\n",
       "        vertical-align: middle;\n",
       "    }\n",
       "\n",
       "    .dataframe tbody tr th {\n",
       "        vertical-align: top;\n",
       "    }\n",
       "\n",
       "    .dataframe thead th {\n",
       "        text-align: right;\n",
       "    }\n",
       "</style>\n",
       "<table border=\"1\" class=\"dataframe\">\n",
       "  <thead>\n",
       "    <tr style=\"text-align: right;\">\n",
       "      <th></th>\n",
       "      <th>startingAirport</th>\n",
       "      <th>destinationAirport</th>\n",
       "      <th>totalTravelDistance</th>\n",
       "      <th>travelDurationMins</th>\n",
       "      <th>cabinTypeSegmentSegment1</th>\n",
       "      <th>cabinTypeSegmentSegment2</th>\n",
       "      <th>cabinTypeSegmentSegment3</th>\n",
       "      <th>cabinTypeSegmentSegment4</th>\n",
       "      <th>numStops</th>\n",
       "      <th>flightYear</th>\n",
       "      <th>flightMonth</th>\n",
       "      <th>flightDay</th>\n",
       "      <th>flightHour</th>\n",
       "      <th>flightMinute</th>\n",
       "      <th>searchYear</th>\n",
       "      <th>searchMonth</th>\n",
       "      <th>searchDay</th>\n",
       "      <th>totalFare</th>\n",
       "    </tr>\n",
       "  </thead>\n",
       "  <tbody>\n",
       "    <tr>\n",
       "      <th>0</th>\n",
       "      <td>0.964373</td>\n",
       "      <td>-1.603932</td>\n",
       "      <td>0.710709</td>\n",
       "      <td>0.244224</td>\n",
       "      <td>-0.050707</td>\n",
       "      <td>0.637703</td>\n",
       "      <td>-0.281603</td>\n",
       "      <td>-0.052332</td>\n",
       "      <td>0.377654</td>\n",
       "      <td>0.0</td>\n",
       "      <td>-0.621904</td>\n",
       "      <td>0.582158</td>\n",
       "      <td>0.025652</td>\n",
       "      <td>1.695090</td>\n",
       "      <td>0.0</td>\n",
       "      <td>-1.021327</td>\n",
       "      <td>0.38687</td>\n",
       "      <td>103.98</td>\n",
       "    </tr>\n",
       "    <tr>\n",
       "      <th>1</th>\n",
       "      <td>0.964373</td>\n",
       "      <td>-1.603932</td>\n",
       "      <td>1.025539</td>\n",
       "      <td>-0.193447</td>\n",
       "      <td>-0.050707</td>\n",
       "      <td>0.637703</td>\n",
       "      <td>-0.281603</td>\n",
       "      <td>-0.052332</td>\n",
       "      <td>0.377654</td>\n",
       "      <td>0.0</td>\n",
       "      <td>-0.621904</td>\n",
       "      <td>0.582158</td>\n",
       "      <td>-1.200963</td>\n",
       "      <td>1.589283</td>\n",
       "      <td>0.0</td>\n",
       "      <td>-1.021327</td>\n",
       "      <td>0.38687</td>\n",
       "      <td>216.58</td>\n",
       "    </tr>\n",
       "    <tr>\n",
       "      <th>2</th>\n",
       "      <td>0.964373</td>\n",
       "      <td>-1.603932</td>\n",
       "      <td>1.025539</td>\n",
       "      <td>0.578117</td>\n",
       "      <td>-0.050707</td>\n",
       "      <td>0.637703</td>\n",
       "      <td>-0.281603</td>\n",
       "      <td>-0.052332</td>\n",
       "      <td>0.377654</td>\n",
       "      <td>0.0</td>\n",
       "      <td>-0.621904</td>\n",
       "      <td>0.468623</td>\n",
       "      <td>1.497591</td>\n",
       "      <td>-1.108799</td>\n",
       "      <td>0.0</td>\n",
       "      <td>-1.021327</td>\n",
       "      <td>0.38687</td>\n",
       "      <td>216.58</td>\n",
       "    </tr>\n",
       "    <tr>\n",
       "      <th>3</th>\n",
       "      <td>0.964373</td>\n",
       "      <td>-1.603932</td>\n",
       "      <td>1.025539</td>\n",
       "      <td>-0.184423</td>\n",
       "      <td>-0.050707</td>\n",
       "      <td>0.637703</td>\n",
       "      <td>-0.281603</td>\n",
       "      <td>-0.052332</td>\n",
       "      <td>0.377654</td>\n",
       "      <td>0.0</td>\n",
       "      <td>-0.621904</td>\n",
       "      <td>0.582158</td>\n",
       "      <td>0.270975</td>\n",
       "      <td>1.589283</td>\n",
       "      <td>0.0</td>\n",
       "      <td>-1.021327</td>\n",
       "      <td>0.38687</td>\n",
       "      <td>237.58</td>\n",
       "    </tr>\n",
       "    <tr>\n",
       "      <th>4</th>\n",
       "      <td>0.964373</td>\n",
       "      <td>-1.603932</td>\n",
       "      <td>1.551857</td>\n",
       "      <td>1.958812</td>\n",
       "      <td>-0.050707</td>\n",
       "      <td>0.637703</td>\n",
       "      <td>-0.281603</td>\n",
       "      <td>-0.052332</td>\n",
       "      <td>0.377654</td>\n",
       "      <td>0.0</td>\n",
       "      <td>-0.621904</td>\n",
       "      <td>0.582158</td>\n",
       "      <td>0.393637</td>\n",
       "      <td>0.795729</td>\n",
       "      <td>0.0</td>\n",
       "      <td>-1.021327</td>\n",
       "      <td>0.38687</td>\n",
       "      <td>307.21</td>\n",
       "    </tr>\n",
       "  </tbody>\n",
       "</table>\n",
       "</div>"
      ],
      "text/plain": [
       "   startingAirport  destinationAirport  totalTravelDistance  \\\n",
       "0         0.964373           -1.603932             0.710709   \n",
       "1         0.964373           -1.603932             1.025539   \n",
       "2         0.964373           -1.603932             1.025539   \n",
       "3         0.964373           -1.603932             1.025539   \n",
       "4         0.964373           -1.603932             1.551857   \n",
       "\n",
       "   travelDurationMins  cabinTypeSegmentSegment1  cabinTypeSegmentSegment2  \\\n",
       "0            0.244224                 -0.050707                  0.637703   \n",
       "1           -0.193447                 -0.050707                  0.637703   \n",
       "2            0.578117                 -0.050707                  0.637703   \n",
       "3           -0.184423                 -0.050707                  0.637703   \n",
       "4            1.958812                 -0.050707                  0.637703   \n",
       "\n",
       "   cabinTypeSegmentSegment3  cabinTypeSegmentSegment4  numStops  flightYear  \\\n",
       "0                 -0.281603                 -0.052332  0.377654         0.0   \n",
       "1                 -0.281603                 -0.052332  0.377654         0.0   \n",
       "2                 -0.281603                 -0.052332  0.377654         0.0   \n",
       "3                 -0.281603                 -0.052332  0.377654         0.0   \n",
       "4                 -0.281603                 -0.052332  0.377654         0.0   \n",
       "\n",
       "   flightMonth  flightDay  flightHour  flightMinute  searchYear  searchMonth  \\\n",
       "0    -0.621904   0.582158    0.025652      1.695090         0.0    -1.021327   \n",
       "1    -0.621904   0.582158   -1.200963      1.589283         0.0    -1.021327   \n",
       "2    -0.621904   0.468623    1.497591     -1.108799         0.0    -1.021327   \n",
       "3    -0.621904   0.582158    0.270975      1.589283         0.0    -1.021327   \n",
       "4    -0.621904   0.582158    0.393637      0.795729         0.0    -1.021327   \n",
       "\n",
       "   searchDay  totalFare  \n",
       "0    0.38687     103.98  \n",
       "1    0.38687     216.58  \n",
       "2    0.38687     216.58  \n",
       "3    0.38687     237.58  \n",
       "4    0.38687     307.21  "
      ]
     },
     "execution_count": 50,
     "metadata": {},
     "output_type": "execute_result"
    }
   ],
   "source": [
    "df.head()"
   ]
  },
  {
   "cell_type": "code",
   "execution_count": 51,
   "id": "297e8922-b556-4159-8552-41f808f94235",
   "metadata": {},
   "outputs": [
    {
     "data": {
      "text/plain": [
       "(13519999, 18)"
      ]
     },
     "execution_count": 51,
     "metadata": {},
     "output_type": "execute_result"
    }
   ],
   "source": [
    "df.shape"
   ]
  },
  {
   "cell_type": "markdown",
   "id": "5454ddb0-277b-4cfa-8026-e2ab68948d3e",
   "metadata": {},
   "source": [
    "# 2. Split Dataset"
   ]
  },
  {
   "cell_type": "markdown",
   "id": "08d94b13-2026-4938-a46c-e0b05e4ad5e9",
   "metadata": {},
   "source": [
    "## [2.1] Sampling dataset"
   ]
  },
  {
   "cell_type": "markdown",
   "id": "3a5c89d0-92f2-40a0-9f90-3a79a5c89540",
   "metadata": {},
   "source": [
    "Sampling the dataset based on the origin destination pair, so that all the pairs are included in the sample"
   ]
  },
  {
   "cell_type": "code",
   "execution_count": 52,
   "id": "292d081f-9754-4fbc-a646-0020d0d4227d",
   "metadata": {},
   "outputs": [],
   "source": [
    "# fraction of each group to sample\n",
    "sample_fraction = 0.3"
   ]
  },
  {
   "cell_type": "code",
   "execution_count": 53,
   "id": "479d0c45-5a1d-4131-9272-2fede0d26e68",
   "metadata": {},
   "outputs": [
    {
     "name": "stderr",
     "output_type": "stream",
     "text": [
      "/var/folders/y7/4mw_ll2n3zz0kzg7v6kt7kwm0000gn/T/ipykernel_14612/1789080720.py:2: DeprecationWarning: DataFrameGroupBy.apply operated on the grouping columns. This behavior is deprecated, and in a future version of pandas the grouping columns will be excluded from the operation. Either pass `include_groups=False` to exclude the groupings or explicitly select the grouping columns after groupby to silence this warning.\n",
      "  sampled_df = df.groupby(['startingAirport', 'destinationAirport'], group_keys=False).apply(lambda x: x.sample(frac=sample_fraction))\n"
     ]
    }
   ],
   "source": [
    "# Perform stratified sampling by 'startingAirport' and 'destinationAirport'\n",
    "sampled_df = df.groupby(['startingAirport', 'destinationAirport'], group_keys=False).apply \\\n",
    "(lambda x: x.sample(frac=sample_fraction))"
   ]
  },
  {
   "cell_type": "code",
   "execution_count": 54,
   "id": "195ac897-ec06-418f-b1b0-76fa41451042",
   "metadata": {},
   "outputs": [],
   "source": [
    "# Reset index\n",
    "sampled_df = sampled_df.reset_index(drop=True)"
   ]
  },
  {
   "cell_type": "code",
   "execution_count": 55,
   "id": "dde01716-929b-4b47-a48f-e8daf6cee081",
   "metadata": {},
   "outputs": [
    {
     "data": {
      "text/plain": [
       "(4055994, 18)"
      ]
     },
     "execution_count": 55,
     "metadata": {},
     "output_type": "execute_result"
    }
   ],
   "source": [
    "sampled_df.shape"
   ]
  },
  {
   "cell_type": "markdown",
   "id": "fa71bf6f-4973-46ca-a2ac-01d647b1083c",
   "metadata": {},
   "source": [
    "## [2.2] Splitting Sampled Data"
   ]
  },
  {
   "cell_type": "markdown",
   "id": "ac9d13e7-9431-4cf4-a80f-3db98861dc8a",
   "metadata": {},
   "source": [
    "### Extracting target variable"
   ]
  },
  {
   "cell_type": "code",
   "execution_count": 56,
   "id": "35cf18a8-b536-4a60-a906-1a442221bb73",
   "metadata": {},
   "outputs": [],
   "source": [
    "sampled_df, target = pop_target(sampled_df, 'totalFare')"
   ]
  },
  {
   "cell_type": "markdown",
   "id": "1107d692-546a-4ea3-a6e0-dbd85cca9500",
   "metadata": {},
   "source": [
    "### Splitting into training and validation"
   ]
  },
  {
   "cell_type": "code",
   "execution_count": 57,
   "id": "cdbd43ea-ff24-47dd-97ab-fbea49bb0ce4",
   "metadata": {},
   "outputs": [],
   "source": [
    "X_train, X_val, y_train, y_val = train_test_split(sampled_df, target, test_size=0.3, random_state=42)"
   ]
  },
  {
   "cell_type": "markdown",
   "id": "beed551f-7cee-409a-b3c4-bdc431317eb0",
   "metadata": {},
   "source": [
    "### Splitting validation into validation and testing"
   ]
  },
  {
   "cell_type": "code",
   "execution_count": 58,
   "id": "f41b75fd-ce63-4838-9d0e-f6e918f316fe",
   "metadata": {},
   "outputs": [],
   "source": [
    "X_val, X_test, y_val, y_test = train_test_split(X_val, y_val, test_size=0.5, random_state=42)"
   ]
  },
  {
   "cell_type": "markdown",
   "id": "734fd3c6-ffab-4fe9-a1fa-dfad005b86e0",
   "metadata": {},
   "source": [
    "# 3. Baseline Model"
   ]
  },
  {
   "cell_type": "code",
   "execution_count": 59,
   "id": "cb1bd3e9-259b-4952-9c9d-579ebf263c59",
   "metadata": {},
   "outputs": [
    {
     "data": {
      "text/plain": [
       "np.float64(373.8322143248352)"
      ]
     },
     "execution_count": 59,
     "metadata": {},
     "output_type": "execute_result"
    }
   ],
   "source": [
    "y_mean = y_train.mean()\n",
    "y_mean"
   ]
  },
  {
   "cell_type": "code",
   "execution_count": 60,
   "id": "80f8bfac-6b93-4c6f-95e7-d3e93a3c3ca4",
   "metadata": {},
   "outputs": [
    {
     "name": "stdout",
     "output_type": "stream",
     "text": [
      "RMSE on Training Data: 207.50063992018602\n"
     ]
    }
   ],
   "source": [
    "y_base = np.full(y_train.shape, y_mean)\n",
    "print(\"RMSE on Training Data:\", rmse(y_train, y_base))"
   ]
  },
  {
   "cell_type": "code",
   "execution_count": 61,
   "id": "3955ed82-3de8-4cc2-a401-a0dc57613a9f",
   "metadata": {},
   "outputs": [
    {
     "data": {
      "text/plain": [
       "np.float64(373.97909533053155)"
      ]
     },
     "execution_count": 61,
     "metadata": {},
     "output_type": "execute_result"
    }
   ],
   "source": [
    "y_mean_val = y_val.mean()\n",
    "y_mean_val"
   ]
  },
  {
   "cell_type": "code",
   "execution_count": 62,
   "id": "b00b6c31-efd5-40e3-b177-fd9d15eef17a",
   "metadata": {},
   "outputs": [
    {
     "name": "stdout",
     "output_type": "stream",
     "text": [
      "RMSE on Validation Data: 208.48180773308704\n"
     ]
    }
   ],
   "source": [
    "y_val_base = np.full(y_val.shape, y_mean_val)\n",
    "print(\"RMSE on Validation Data:\", rmse(y_val, y_val_base))"
   ]
  },
  {
   "cell_type": "code",
   "execution_count": 63,
   "id": "2f9a244c-861d-4ee9-b7f8-52ee64e5f67d",
   "metadata": {},
   "outputs": [
    {
     "data": {
      "text/plain": [
       "np.float64(373.3327081360947)"
      ]
     },
     "execution_count": 63,
     "metadata": {},
     "output_type": "execute_result"
    }
   ],
   "source": [
    "y_mean_test = y_test.mean()\n",
    "y_mean_test"
   ]
  },
  {
   "cell_type": "code",
   "execution_count": 64,
   "id": "638a8826-577a-4e9f-ade1-c2e90f6d0372",
   "metadata": {},
   "outputs": [
    {
     "name": "stdout",
     "output_type": "stream",
     "text": [
      "RMSE on Testing Data: 206.88779210514693\n"
     ]
    }
   ],
   "source": [
    "y_test_base = np.full(y_test.shape, y_mean_test)\n",
    "print(\"RMSE on Testing Data:\", rmse(y_test, y_test_base))"
   ]
  },
  {
   "cell_type": "markdown",
   "id": "9d26fbe7-c250-4197-b2c0-b5cf4df8e1cd",
   "metadata": {},
   "source": [
    "# 4. Model Picking"
   ]
  },
  {
   "cell_type": "code",
   "execution_count": 65,
   "id": "ea4ec91b-481e-46d3-9b65-c9df5ce696b5",
   "metadata": {},
   "outputs": [],
   "source": [
    "def train_and_evaluate(models, X_train, y_train, X_val, y_val, X_test, y_test):\n",
    "    results = {}\n",
    "    \n",
    "    for name, model in models.items():\n",
    "        # Train the model\n",
    "        model.fit(X_train, y_train)\n",
    "        \n",
    "        # Predictions on training and validation sets\n",
    "        y_train_pred = model.predict(X_train)\n",
    "        y_val_pred = model.predict(X_val)\n",
    "        y_test_pred = model.predict(X_test)\n",
    "        \n",
    "        # Calculate RMSE for training and validation sets\n",
    "        train_rmse = rmse(y_train, y_train_pred)\n",
    "        val_rmse = rmse(y_val, y_val_pred)\n",
    "        test_rmse = rmse(y_test, y_test_pred)\n",
    "        \n",
    "        # Store the results\n",
    "        results[name] = {'Train RMSE': train_rmse, 'Validation RMSE': val_rmse, 'Test RMSE': test_rmse}\n",
    "        print(f\"{name} - Train RMSE: {train_rmse}, Validation RMSE: {val_rmse}, Test RMSE: {test_rmse}\")\n",
    "    \n",
    "    return pd.DataFrame(results).T"
   ]
  },
  {
   "cell_type": "code",
   "execution_count": 66,
   "id": "fa00c2c7-4646-4c91-af64-6cf7241eb0ce",
   "metadata": {},
   "outputs": [],
   "source": [
    "models = {\n",
    "    'Linear Regression': LinearRegression(),\n",
    "    'ElasticNet': ElasticNet(),\n",
    "    'Decision Tree': DecisionTreeRegressor(),\n",
    "    'XGBoost': xgb.XGBRegressor(),\n",
    "    'LightGBM': lgb.LGBMRegressor()\n",
    "}"
   ]
  },
  {
   "cell_type": "code",
   "execution_count": 67,
   "id": "286c463a-4d64-4743-9c66-afcd20cbbf38",
   "metadata": {},
   "outputs": [
    {
     "name": "stdout",
     "output_type": "stream",
     "text": [
      "Linear Regression - Train RMSE: 159.6910586835628, Validation RMSE: 160.69128026500124, Test RMSE: 159.41555335338293\n",
      "ElasticNet - Train RMSE: 165.08119165908357, Validation RMSE: 166.12391507924224, Test RMSE: 164.56311253805904\n",
      "Decision Tree - Train RMSE: 8.639020507192985, Validation RMSE: 99.38408597128749, Test RMSE: 98.63103229294242\n",
      "XGBoost - Train RMSE: 114.28259842877618, Validation RMSE: 115.47380586440094, Test RMSE: 114.313406750339\n",
      "[LightGBM] [Info] Auto-choosing row-wise multi-threading, the overhead of testing was 0.035113 seconds.\n",
      "You can set `force_row_wise=true` to remove the overhead.\n",
      "And if memory is not enough, you can set `force_col_wise=true`.\n",
      "[LightGBM] [Info] Total Bins 725\n",
      "[LightGBM] [Info] Number of data points in the train set: 2839195, number of used features: 15\n",
      "[LightGBM] [Info] Start training from score 373.832215\n",
      "LightGBM - Train RMSE: 126.71729095618693, Validation RMSE: 127.70910017514102, Test RMSE: 126.38486389973264\n",
      "                   Train RMSE  Validation RMSE   Test RMSE\n",
      "Linear Regression  159.691059       160.691280  159.415553\n",
      "ElasticNet         165.081192       166.123915  164.563113\n",
      "Decision Tree        8.639021        99.384086   98.631032\n",
      "XGBoost            114.282598       115.473806  114.313407\n",
      "LightGBM           126.717291       127.709100  126.384864\n"
     ]
    }
   ],
   "source": [
    "results = train_and_evaluate(models, X_train, y_train, X_val, y_val, X_test, y_test)\n",
    "print(results)"
   ]
  },
  {
   "cell_type": "markdown",
   "id": "adf52d2f-cf11-4929-a4f4-f7b7699aa5ec",
   "metadata": {},
   "source": [
    "# 5. Increasing Sample Size"
   ]
  },
  {
   "cell_type": "code",
   "execution_count": 41,
   "id": "9e32ff22-96e6-4ce0-a64c-b5225b208bac",
   "metadata": {},
   "outputs": [],
   "source": [
    "# fraction of each group to sample\n",
    "sample_fraction = 0.5"
   ]
  },
  {
   "cell_type": "code",
   "execution_count": 42,
   "id": "b286d1c6-2f1a-4771-8544-88d11be9c95b",
   "metadata": {},
   "outputs": [
    {
     "name": "stderr",
     "output_type": "stream",
     "text": [
      "/var/folders/y7/4mw_ll2n3zz0kzg7v6kt7kwm0000gn/T/ipykernel_14612/356879355.py:2: DeprecationWarning: DataFrameGroupBy.apply operated on the grouping columns. This behavior is deprecated, and in a future version of pandas the grouping columns will be excluded from the operation. Either pass `include_groups=False` to exclude the groupings or explicitly select the grouping columns after groupby to silence this warning.\n",
      "  sampled_df_1 = df.groupby(['startingAirport', 'destinationAirport'], group_keys=False).apply(lambda x: x.sample(frac=sample_fraction))\n"
     ]
    }
   ],
   "source": [
    "# Perform stratified sampling by 'startingAirport' and 'destinationAirport'\n",
    "sampled_df_1 = df.groupby(['startingAirport', 'destinationAirport'], group_keys=False).apply(lambda x: x.sample(frac=sample_fraction))"
   ]
  },
  {
   "cell_type": "code",
   "execution_count": 43,
   "id": "e8b662eb-11b8-4ea1-821d-1c75b607b69b",
   "metadata": {},
   "outputs": [],
   "source": [
    "sampled_df_1 = sampled_df_1.reset_index(drop=True)"
   ]
  },
  {
   "cell_type": "code",
   "execution_count": 44,
   "id": "1cd70987-c82a-44a0-86dc-d64b3367e28e",
   "metadata": {},
   "outputs": [],
   "source": [
    "sampled_df_1, target = pop_target(sampled_df_1, 'totalFare')"
   ]
  },
  {
   "cell_type": "code",
   "execution_count": 45,
   "id": "cdc47f5e-7b86-44df-864a-2eb8e425e396",
   "metadata": {},
   "outputs": [],
   "source": [
    "X_train, X_val, y_train, y_val = train_test_split(sampled_df_1, target, test_size=0.3, random_state=42)"
   ]
  },
  {
   "cell_type": "code",
   "execution_count": 46,
   "id": "0e12db5e-6c08-4730-9fe7-8387b55182bb",
   "metadata": {},
   "outputs": [],
   "source": [
    "X_val, X_test, y_val, y_test = train_test_split(X_val, y_val, test_size=0.3, random_state=42)"
   ]
  },
  {
   "cell_type": "code",
   "execution_count": 47,
   "id": "c060c016-539f-499c-ae1a-777280171665",
   "metadata": {},
   "outputs": [
    {
     "name": "stdout",
     "output_type": "stream",
     "text": [
      "Linear Regression - Train RMSE: 159.81528945924043, Validation RMSE: 160.2281542890805, Test RMSE: 160.29340489922322\n",
      "ElasticNet - Train RMSE: 165.22311631429795, Validation RMSE: 165.55353156979874, Test RMSE: 165.82496274061714\n",
      "Decision Tree - Train RMSE: 10.873027468363507, Validation RMSE: 87.97101502194292, Test RMSE: 88.09606686842487\n",
      "XGBoost - Train RMSE: 114.52875358421866, Validation RMSE: 115.02437856514844, Test RMSE: 115.10356705204691\n",
      "[LightGBM] [Info] Auto-choosing row-wise multi-threading, the overhead of testing was 0.065354 seconds.\n",
      "You can set `force_row_wise=true` to remove the overhead.\n",
      "And if memory is not enough, you can set `force_col_wise=true`.\n",
      "[LightGBM] [Info] Total Bins 725\n",
      "[LightGBM] [Info] Number of data points in the train set: 4732003, number of used features: 15\n",
      "[LightGBM] [Info] Start training from score 373.728531\n",
      "LightGBM - Train RMSE: 126.92233282337213, Validation RMSE: 127.2175764959121, Test RMSE: 127.28277387712644\n",
      "                   Train RMSE  Validation RMSE   Test RMSE\n",
      "Linear Regression  159.815289       160.228154  160.293405\n",
      "ElasticNet         165.223116       165.553532  165.824963\n",
      "Decision Tree       10.873027        87.971015   88.096067\n",
      "XGBoost            114.528754       115.024379  115.103567\n",
      "LightGBM           126.922333       127.217576  127.282774\n"
     ]
    }
   ],
   "source": [
    "results = train_and_evaluate(models, X_train, y_train, X_val, y_val, X_test, y_test)\n",
    "print(results)"
   ]
  },
  {
   "cell_type": "code",
   "execution_count": null,
   "id": "20d02469-a947-438e-8cb7-639b64d802eb",
   "metadata": {},
   "outputs": [],
   "source": []
  }
 ],
 "metadata": {
  "kernelspec": {
   "display_name": "Python 3 (ipykernel)",
   "language": "python",
   "name": "python3"
  },
  "language_info": {
   "codemirror_mode": {
    "name": "ipython",
    "version": 3
   },
   "file_extension": ".py",
   "mimetype": "text/x-python",
   "name": "python",
   "nbconvert_exporter": "python",
   "pygments_lexer": "ipython3",
   "version": "3.11.4"
  }
 },
 "nbformat": 4,
 "nbformat_minor": 5
}
