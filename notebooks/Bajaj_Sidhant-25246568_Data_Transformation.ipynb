{
 "cells": [
  {
   "cell_type": "markdown",
   "id": "f5f5eaaa-7409-46de-860b-9b66c42c8b55",
   "metadata": {},
   "source": [
    "# 0. Import Libraries"
   ]
  },
  {
   "cell_type": "code",
   "execution_count": 1,
   "id": "f0f7d0eb-048f-4c3b-8a0e-0db6b0648767",
   "metadata": {},
   "outputs": [],
   "source": [
    "import pandas as pd\n",
    "import numpy as np\n",
    "from my_krml_25246568.data.sets import pop_target\n",
    "from sklearn.preprocessing import StandardScaler, OrdinalEncoder\n",
    "from joblib import dump"
   ]
  },
  {
   "cell_type": "markdown",
   "id": "8335ad66-1f9a-4a15-9e70-56f853c20adc",
   "metadata": {},
   "source": [
    "# 1. Load Data"
   ]
  },
  {
   "cell_type": "code",
   "execution_count": 2,
   "id": "9953a3d6-cae6-489c-9d1c-f1c93db44182",
   "metadata": {},
   "outputs": [],
   "source": [
    "df = pd.read_csv('../data/interim/cleaned_data_1.csv', low_memory=False)"
   ]
  },
  {
   "cell_type": "code",
   "execution_count": 3,
   "id": "3e412bdd-f1a1-4edf-abb3-478d2856f78a",
   "metadata": {},
   "outputs": [
    {
     "name": "stdout",
     "output_type": "stream",
     "text": [
      "<class 'pandas.core.frame.DataFrame'>\n",
      "RangeIndex: 13519999 entries, 0 to 13519998\n",
      "Data columns (total 15 columns):\n",
      " #   Column                    Dtype  \n",
      "---  ------                    -----  \n",
      " 0   startingAirport           object \n",
      " 1   destinationAirport        object \n",
      " 2   totalFare                 float64\n",
      " 3   totalTravelDistance       float64\n",
      " 4   travelDurationMins        float64\n",
      " 5   cabinTypeSegmentSegment1  object \n",
      " 6   cabinTypeSegmentSegment2  object \n",
      " 7   cabinTypeSegmentSegment3  object \n",
      " 8   cabinTypeSegmentSegment4  object \n",
      " 9   numStops                  int64  \n",
      " 10  flightMonth               int64  \n",
      " 11  flightDay                 int64  \n",
      " 12  flightHour                int64  \n",
      " 13  flightMinute              int64  \n",
      " 14  days_difference           int64  \n",
      "dtypes: float64(3), int64(6), object(6)\n",
      "memory usage: 1.5+ GB\n"
     ]
    }
   ],
   "source": [
    "df.info()"
   ]
  },
  {
   "cell_type": "code",
   "execution_count": 4,
   "id": "89250d9e-b428-4168-b07c-dfe2d2fcdfee",
   "metadata": {
    "scrolled": true
   },
   "outputs": [
    {
     "data": {
      "text/plain": [
       "(13519999, 15)"
      ]
     },
     "execution_count": 4,
     "metadata": {},
     "output_type": "execute_result"
    }
   ],
   "source": [
    "df.shape"
   ]
  },
  {
   "cell_type": "code",
   "execution_count": 5,
   "id": "f382c438-0fcc-4ff0-ae53-e369c6567ebe",
   "metadata": {},
   "outputs": [
    {
     "data": {
      "text/html": [
       "<div>\n",
       "<style scoped>\n",
       "    .dataframe tbody tr th:only-of-type {\n",
       "        vertical-align: middle;\n",
       "    }\n",
       "\n",
       "    .dataframe tbody tr th {\n",
       "        vertical-align: top;\n",
       "    }\n",
       "\n",
       "    .dataframe thead th {\n",
       "        text-align: right;\n",
       "    }\n",
       "</style>\n",
       "<table border=\"1\" class=\"dataframe\">\n",
       "  <thead>\n",
       "    <tr style=\"text-align: right;\">\n",
       "      <th></th>\n",
       "      <th>startingAirport</th>\n",
       "      <th>destinationAirport</th>\n",
       "      <th>totalFare</th>\n",
       "      <th>totalTravelDistance</th>\n",
       "      <th>travelDurationMins</th>\n",
       "      <th>cabinTypeSegmentSegment1</th>\n",
       "      <th>cabinTypeSegmentSegment2</th>\n",
       "      <th>cabinTypeSegmentSegment3</th>\n",
       "      <th>cabinTypeSegmentSegment4</th>\n",
       "      <th>numStops</th>\n",
       "      <th>flightMonth</th>\n",
       "      <th>flightDay</th>\n",
       "      <th>flightHour</th>\n",
       "      <th>flightMinute</th>\n",
       "      <th>days_difference</th>\n",
       "    </tr>\n",
       "  </thead>\n",
       "  <tbody>\n",
       "    <tr>\n",
       "      <th>0</th>\n",
       "      <td>OAK</td>\n",
       "      <td>ATL</td>\n",
       "      <td>103.98</td>\n",
       "      <td>2150.0</td>\n",
       "      <td>472.0</td>\n",
       "      <td>coach</td>\n",
       "      <td>coach</td>\n",
       "      <td>No cabin</td>\n",
       "      <td>No cabin</td>\n",
       "      <td>1</td>\n",
       "      <td>5</td>\n",
       "      <td>21</td>\n",
       "      <td>11</td>\n",
       "      <td>58</td>\n",
       "      <td>32</td>\n",
       "    </tr>\n",
       "    <tr>\n",
       "      <th>1</th>\n",
       "      <td>OAK</td>\n",
       "      <td>ATL</td>\n",
       "      <td>216.58</td>\n",
       "      <td>2412.0</td>\n",
       "      <td>375.0</td>\n",
       "      <td>coach</td>\n",
       "      <td>coach</td>\n",
       "      <td>No cabin</td>\n",
       "      <td>No cabin</td>\n",
       "      <td>1</td>\n",
       "      <td>5</td>\n",
       "      <td>21</td>\n",
       "      <td>1</td>\n",
       "      <td>56</td>\n",
       "      <td>32</td>\n",
       "    </tr>\n",
       "    <tr>\n",
       "      <th>2</th>\n",
       "      <td>OAK</td>\n",
       "      <td>ATL</td>\n",
       "      <td>216.58</td>\n",
       "      <td>2412.0</td>\n",
       "      <td>546.0</td>\n",
       "      <td>coach</td>\n",
       "      <td>coach</td>\n",
       "      <td>No cabin</td>\n",
       "      <td>No cabin</td>\n",
       "      <td>1</td>\n",
       "      <td>5</td>\n",
       "      <td>20</td>\n",
       "      <td>23</td>\n",
       "      <td>5</td>\n",
       "      <td>31</td>\n",
       "    </tr>\n",
       "    <tr>\n",
       "      <th>3</th>\n",
       "      <td>OAK</td>\n",
       "      <td>ATL</td>\n",
       "      <td>237.58</td>\n",
       "      <td>2412.0</td>\n",
       "      <td>377.0</td>\n",
       "      <td>coach</td>\n",
       "      <td>coach</td>\n",
       "      <td>No cabin</td>\n",
       "      <td>No cabin</td>\n",
       "      <td>1</td>\n",
       "      <td>5</td>\n",
       "      <td>21</td>\n",
       "      <td>13</td>\n",
       "      <td>56</td>\n",
       "      <td>32</td>\n",
       "    </tr>\n",
       "    <tr>\n",
       "      <th>4</th>\n",
       "      <td>OAK</td>\n",
       "      <td>ATL</td>\n",
       "      <td>307.21</td>\n",
       "      <td>2850.0</td>\n",
       "      <td>852.0</td>\n",
       "      <td>coach</td>\n",
       "      <td>coach</td>\n",
       "      <td>No cabin</td>\n",
       "      <td>No cabin</td>\n",
       "      <td>1</td>\n",
       "      <td>5</td>\n",
       "      <td>21</td>\n",
       "      <td>14</td>\n",
       "      <td>41</td>\n",
       "      <td>32</td>\n",
       "    </tr>\n",
       "  </tbody>\n",
       "</table>\n",
       "</div>"
      ],
      "text/plain": [
       "  startingAirport destinationAirport  totalFare  totalTravelDistance  \\\n",
       "0             OAK                ATL     103.98               2150.0   \n",
       "1             OAK                ATL     216.58               2412.0   \n",
       "2             OAK                ATL     216.58               2412.0   \n",
       "3             OAK                ATL     237.58               2412.0   \n",
       "4             OAK                ATL     307.21               2850.0   \n",
       "\n",
       "   travelDurationMins cabinTypeSegmentSegment1 cabinTypeSegmentSegment2  \\\n",
       "0               472.0                    coach                    coach   \n",
       "1               375.0                    coach                    coach   \n",
       "2               546.0                    coach                    coach   \n",
       "3               377.0                    coach                    coach   \n",
       "4               852.0                    coach                    coach   \n",
       "\n",
       "  cabinTypeSegmentSegment3 cabinTypeSegmentSegment4  numStops  flightMonth  \\\n",
       "0                 No cabin                 No cabin         1            5   \n",
       "1                 No cabin                 No cabin         1            5   \n",
       "2                 No cabin                 No cabin         1            5   \n",
       "3                 No cabin                 No cabin         1            5   \n",
       "4                 No cabin                 No cabin         1            5   \n",
       "\n",
       "   flightDay  flightHour  flightMinute  days_difference  \n",
       "0         21          11            58               32  \n",
       "1         21           1            56               32  \n",
       "2         20          23             5               31  \n",
       "3         21          13            56               32  \n",
       "4         21          14            41               32  "
      ]
     },
     "execution_count": 5,
     "metadata": {},
     "output_type": "execute_result"
    }
   ],
   "source": [
    "df.head()"
   ]
  },
  {
   "cell_type": "markdown",
   "id": "00016764-34ea-45a6-8627-663847404862",
   "metadata": {},
   "source": [
    "# 2. Data Transformation"
   ]
  },
  {
   "cell_type": "markdown",
   "id": "a24c77c9-2042-4b4f-ba76-516168043aa4",
   "metadata": {},
   "source": [
    "## [2.1] Ordinal Encoder"
   ]
  },
  {
   "cell_type": "code",
   "execution_count": 6,
   "id": "f3797ad4-e225-43ef-bed0-73da961d7a8c",
   "metadata": {},
   "outputs": [],
   "source": [
    "df_encoded = df.copy()"
   ]
  },
  {
   "cell_type": "code",
   "execution_count": 7,
   "id": "63c92627-aca8-4673-8d3b-0f705bccca78",
   "metadata": {},
   "outputs": [],
   "source": [
    "oe = OrdinalEncoder(dtype=int)"
   ]
  },
  {
   "cell_type": "code",
   "execution_count": 8,
   "id": "1fb8601b-7f7d-4514-b50a-6a5718d9690a",
   "metadata": {},
   "outputs": [],
   "source": [
    "df_encoded[['startingAirport', 'destinationAirport', \n",
    "            'cabinTypeSegmentSegment1', 'cabinTypeSegmentSegment2', \n",
    "            'cabinTypeSegmentSegment3', 'cabinTypeSegmentSegment4']] =  oe.fit_transform(df_encoded[['startingAirport', 'destinationAirport', \n",
    "                                                                                             'cabinTypeSegmentSegment1', 'cabinTypeSegmentSegment2',\n",
    "                                                                                             'cabinTypeSegmentSegment3', 'cabinTypeSegmentSegment4']])"
   ]
  },
  {
   "cell_type": "markdown",
   "id": "d756d603-f4ac-402b-856c-5012ff529df3",
   "metadata": {},
   "source": [
    "## [2.2] Standard Scalar"
   ]
  },
  {
   "cell_type": "markdown",
   "id": "271b26f7-2451-4eab-b5a0-022a53bd761d",
   "metadata": {},
   "source": [
    "### [2.2.1] Extracting target variable"
   ]
  },
  {
   "cell_type": "code",
   "execution_count": 9,
   "id": "9e507597-1e23-41cb-bd50-f8f4dc52d576",
   "metadata": {},
   "outputs": [],
   "source": [
    "df_extracted, target = pop_target(df_encoded, 'totalFare')"
   ]
  },
  {
   "cell_type": "markdown",
   "id": "829fe681-c0d9-47d5-8ede-19fbe5481970",
   "metadata": {},
   "source": [
    "To maintain the same level of magnitude between the values standard scaling technique will be applied."
   ]
  },
  {
   "cell_type": "markdown",
   "id": "425c321d-dd22-44dd-9f1d-0cb1607d515e",
   "metadata": {},
   "source": [
    "### [2.2.2] Scaling features"
   ]
  },
  {
   "cell_type": "code",
   "execution_count": 10,
   "id": "ad7658c0-3ed7-41b0-8666-d7b3e0691521",
   "metadata": {},
   "outputs": [],
   "source": [
    "scaler = StandardScaler()"
   ]
  },
  {
   "cell_type": "code",
   "execution_count": 11,
   "id": "0f1d8c78-c72a-448d-b0c8-b651002303a4",
   "metadata": {},
   "outputs": [],
   "source": [
    "scaled = scaler.fit_transform(df_extracted)\n",
    "df_scaled = pd.DataFrame(scaled, columns=df_extracted.columns)"
   ]
  },
  {
   "cell_type": "markdown",
   "id": "81142cf5-c7d9-47b0-b546-024b74d52919",
   "metadata": {},
   "source": [
    "### [2.2.3] Adding target back"
   ]
  },
  {
   "cell_type": "code",
   "execution_count": 12,
   "id": "b927ccdf-4eee-4ad5-8227-19b49e275aa4",
   "metadata": {},
   "outputs": [],
   "source": [
    "df_scaled['totalFare'] = target"
   ]
  },
  {
   "cell_type": "markdown",
   "id": "c1420d13-d3d4-4f59-bcea-2781d56dc66b",
   "metadata": {},
   "source": [
    "# 3. Saving Transformers"
   ]
  },
  {
   "cell_type": "code",
   "execution_count": 13,
   "id": "86600049-2350-46f1-a615-a7b484faa8ef",
   "metadata": {},
   "outputs": [
    {
     "data": {
      "text/plain": [
       "['../models/transformers/ordinal_encoder_final.joblib']"
      ]
     },
     "execution_count": 13,
     "metadata": {},
     "output_type": "execute_result"
    }
   ],
   "source": [
    "dump(oe, '../models/transformers/ordinal_encoder_final.joblib')"
   ]
  },
  {
   "cell_type": "code",
   "execution_count": 14,
   "id": "891229a6-bd33-4d1b-9868-c74e10a084ef",
   "metadata": {},
   "outputs": [
    {
     "data": {
      "text/plain": [
       "['../models/transformers/scaler_final.joblib']"
      ]
     },
     "execution_count": 14,
     "metadata": {},
     "output_type": "execute_result"
    }
   ],
   "source": [
    "dump(scaler, '../models/transformers/scaler_final.joblib')"
   ]
  },
  {
   "cell_type": "markdown",
   "id": "1961fee0-7fb2-49f8-8230-7494c5ce2193",
   "metadata": {},
   "source": [
    "# 4. Saving Transformed CSV"
   ]
  },
  {
   "cell_type": "code",
   "execution_count": 15,
   "id": "4e77a120-0436-48ee-93ae-52569aaa34b7",
   "metadata": {},
   "outputs": [],
   "source": [
    "df_scaled.to_csv('../data/processed/processed_data_final.csv', index=False)"
   ]
  },
  {
   "cell_type": "code",
   "execution_count": null,
   "id": "488db1ac-19d2-437c-a709-e41040da6055",
   "metadata": {},
   "outputs": [],
   "source": []
  }
 ],
 "metadata": {
  "kernelspec": {
   "display_name": "Python 3 (ipykernel)",
   "language": "python",
   "name": "python3"
  },
  "language_info": {
   "codemirror_mode": {
    "name": "ipython",
    "version": 3
   },
   "file_extension": ".py",
   "mimetype": "text/x-python",
   "name": "python",
   "nbconvert_exporter": "python",
   "pygments_lexer": "ipython3",
   "version": "3.11.4"
  }
 },
 "nbformat": 4,
 "nbformat_minor": 5
}
